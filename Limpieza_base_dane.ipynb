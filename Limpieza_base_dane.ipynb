{
 "cells": [
  {
   "cell_type": "markdown",
   "id": "4650a90e",
   "metadata": {},
   "source": [
    "# Cargue de librerias"
   ]
  },
  {
   "cell_type": "code",
   "execution_count": 74,
   "id": "b1938bb7",
   "metadata": {},
   "outputs": [],
   "source": [
    "import pandas as pd\n",
    "import numpy as np\n",
    "import pandas as pd\n",
    "import numpy as np\n",
    "import re\n",
    "from unicodedata import normalize\n",
    "from IPython.core.interactiveshell import InteractiveShell\n",
    "InteractiveShell.ast_node_interactivity = \"all\"\n",
    "pd.options.display.float_format = '{:,.2f}'.format\n",
    "import pyxlsb\n",
    "from pyxlsb import convert_date"
   ]
  },
  {
   "cell_type": "markdown",
   "id": "3a67042b",
   "metadata": {},
   "source": [
    "# Cargue de Datos"
   ]
  },
  {
   "cell_type": "code",
   "execution_count": 75,
   "id": "337b7459",
   "metadata": {},
   "outputs": [],
   "source": [
    "base = pd.read_excel('anexo-area-proyecciones-poblacion-Municipal_Area_1985-2017.xlsx', header=11)\n",
    "base2 = pd.read_excel('anexo-proyecciones-poblacion-Municipal_Area_2018-2035.xlsx', header=11)"
   ]
  },
  {
   "cell_type": "markdown",
   "id": "96862514",
   "metadata": {},
   "source": [
    "# Parámetros"
   ]
  },
  {
   "cell_type": "code",
   "execution_count": 76,
   "id": "3f466558",
   "metadata": {},
   "outputs": [],
   "source": [
    "#periodo de tiempo para filtrar la base\n",
    "periodo = [2010,2020]"
   ]
  },
  {
   "cell_type": "markdown",
   "id": "2d3925dd",
   "metadata": {},
   "source": [
    "### Análisis descriptivo de los datos"
   ]
  },
  {
   "cell_type": "code",
   "execution_count": 77,
   "id": "46e75ee6",
   "metadata": {},
   "outputs": [
    {
     "data": {
      "text/html": [
       "<div>\n",
       "<style scoped>\n",
       "    .dataframe tbody tr th:only-of-type {\n",
       "        vertical-align: middle;\n",
       "    }\n",
       "\n",
       "    .dataframe tbody tr th {\n",
       "        vertical-align: top;\n",
       "    }\n",
       "\n",
       "    .dataframe thead th {\n",
       "        text-align: right;\n",
       "    }\n",
       "</style>\n",
       "<table border=\"1\" class=\"dataframe\">\n",
       "  <thead>\n",
       "    <tr style=\"text-align: right;\">\n",
       "      <th></th>\n",
       "      <th>DP</th>\n",
       "      <th>DPNOM</th>\n",
       "      <th>COD_MUNICIPIO</th>\n",
       "      <th>MPNOM</th>\n",
       "      <th>AÑO</th>\n",
       "      <th>ÁREA GEOGRÁFICA</th>\n",
       "      <th>Total</th>\n",
       "    </tr>\n",
       "  </thead>\n",
       "  <tbody>\n",
       "    <tr>\n",
       "      <th>0</th>\n",
       "      <td>05</td>\n",
       "      <td>Antioquia</td>\n",
       "      <td>5,001.00</td>\n",
       "      <td>Medellín</td>\n",
       "      <td>1,985.00</td>\n",
       "      <td>Cabecera Municipal</td>\n",
       "      <td>1393864</td>\n",
       "    </tr>\n",
       "    <tr>\n",
       "      <th>1</th>\n",
       "      <td>05</td>\n",
       "      <td>Antioquia</td>\n",
       "      <td>5,001.00</td>\n",
       "      <td>Medellín</td>\n",
       "      <td>1,985.00</td>\n",
       "      <td>Centros Poblados y Rural Disperso</td>\n",
       "      <td>56313</td>\n",
       "    </tr>\n",
       "    <tr>\n",
       "      <th>2</th>\n",
       "      <td>05</td>\n",
       "      <td>Antioquia</td>\n",
       "      <td>5,001.00</td>\n",
       "      <td>Medellín</td>\n",
       "      <td>1,985.00</td>\n",
       "      <td>Total</td>\n",
       "      <td>1450177</td>\n",
       "    </tr>\n",
       "    <tr>\n",
       "      <th>3</th>\n",
       "      <td>05</td>\n",
       "      <td>Antioquia</td>\n",
       "      <td>5,001.00</td>\n",
       "      <td>Medellín</td>\n",
       "      <td>1,986.00</td>\n",
       "      <td>Cabecera Municipal</td>\n",
       "      <td>1421745</td>\n",
       "    </tr>\n",
       "    <tr>\n",
       "      <th>4</th>\n",
       "      <td>05</td>\n",
       "      <td>Antioquia</td>\n",
       "      <td>5,001.00</td>\n",
       "      <td>Medellín</td>\n",
       "      <td>1,986.00</td>\n",
       "      <td>Centros Poblados y Rural Disperso</td>\n",
       "      <td>56223</td>\n",
       "    </tr>\n",
       "  </tbody>\n",
       "</table>\n",
       "</div>"
      ],
      "text/plain": [
       "   DP      DPNOM  COD_MUNICIPIO     MPNOM      AÑO  \\\n",
       "0  05  Antioquia       5,001.00  Medellín 1,985.00   \n",
       "1  05  Antioquia       5,001.00  Medellín 1,985.00   \n",
       "2  05  Antioquia       5,001.00  Medellín 1,985.00   \n",
       "3  05  Antioquia       5,001.00  Medellín 1,986.00   \n",
       "4  05  Antioquia       5,001.00  Medellín 1,986.00   \n",
       "\n",
       "                     ÁREA GEOGRÁFICA    Total  \n",
       "0                 Cabecera Municipal  1393864  \n",
       "1  Centros Poblados y Rural Disperso    56313  \n",
       "2                              Total  1450177  \n",
       "3                 Cabecera Municipal  1421745  \n",
       "4  Centros Poblados y Rural Disperso    56223  "
      ]
     },
     "execution_count": 77,
     "metadata": {},
     "output_type": "execute_result"
    },
    {
     "data": {
      "text/html": [
       "<div>\n",
       "<style scoped>\n",
       "    .dataframe tbody tr th:only-of-type {\n",
       "        vertical-align: middle;\n",
       "    }\n",
       "\n",
       "    .dataframe tbody tr th {\n",
       "        vertical-align: top;\n",
       "    }\n",
       "\n",
       "    .dataframe thead th {\n",
       "        text-align: right;\n",
       "    }\n",
       "</style>\n",
       "<table border=\"1\" class=\"dataframe\">\n",
       "  <thead>\n",
       "    <tr style=\"text-align: right;\">\n",
       "      <th></th>\n",
       "      <th>DP</th>\n",
       "      <th>DPNOM</th>\n",
       "      <th>COD_MUNICIPIO</th>\n",
       "      <th>MPNOM</th>\n",
       "      <th>AÑO</th>\n",
       "      <th>ÁREA GEOGRÁFICA</th>\n",
       "      <th>Total</th>\n",
       "    </tr>\n",
       "  </thead>\n",
       "  <tbody>\n",
       "    <tr>\n",
       "      <th>0</th>\n",
       "      <td>5</td>\n",
       "      <td>Antioquia</td>\n",
       "      <td>5001</td>\n",
       "      <td>Medellín</td>\n",
       "      <td>2018</td>\n",
       "      <td>Cabecera Municipal</td>\n",
       "      <td>2382399</td>\n",
       "    </tr>\n",
       "    <tr>\n",
       "      <th>1</th>\n",
       "      <td>5</td>\n",
       "      <td>Antioquia</td>\n",
       "      <td>5001</td>\n",
       "      <td>Medellín</td>\n",
       "      <td>2018</td>\n",
       "      <td>Centros Poblados y Rural Disperso</td>\n",
       "      <td>44730</td>\n",
       "    </tr>\n",
       "    <tr>\n",
       "      <th>2</th>\n",
       "      <td>5</td>\n",
       "      <td>Antioquia</td>\n",
       "      <td>5001</td>\n",
       "      <td>Medellín</td>\n",
       "      <td>2018</td>\n",
       "      <td>Total</td>\n",
       "      <td>2427129</td>\n",
       "    </tr>\n",
       "    <tr>\n",
       "      <th>3</th>\n",
       "      <td>5</td>\n",
       "      <td>Antioquia</td>\n",
       "      <td>5001</td>\n",
       "      <td>Medellín</td>\n",
       "      <td>2019</td>\n",
       "      <td>Cabecera Municipal</td>\n",
       "      <td>2439470</td>\n",
       "    </tr>\n",
       "    <tr>\n",
       "      <th>4</th>\n",
       "      <td>5</td>\n",
       "      <td>Antioquia</td>\n",
       "      <td>5001</td>\n",
       "      <td>Medellín</td>\n",
       "      <td>2019</td>\n",
       "      <td>Centros Poblados y Rural Disperso</td>\n",
       "      <td>44075</td>\n",
       "    </tr>\n",
       "  </tbody>\n",
       "</table>\n",
       "</div>"
      ],
      "text/plain": [
       "   DP      DPNOM  COD_MUNICIPIO     MPNOM   AÑO  \\\n",
       "0   5  Antioquia           5001  Medellín  2018   \n",
       "1   5  Antioquia           5001  Medellín  2018   \n",
       "2   5  Antioquia           5001  Medellín  2018   \n",
       "3   5  Antioquia           5001  Medellín  2019   \n",
       "4   5  Antioquia           5001  Medellín  2019   \n",
       "\n",
       "                     ÁREA GEOGRÁFICA    Total  \n",
       "0                 Cabecera Municipal  2382399  \n",
       "1  Centros Poblados y Rural Disperso    44730  \n",
       "2                              Total  2427129  \n",
       "3                 Cabecera Municipal  2439470  \n",
       "4  Centros Poblados y Rural Disperso    44075  "
      ]
     },
     "execution_count": 77,
     "metadata": {},
     "output_type": "execute_result"
    }
   ],
   "source": [
    "#revisamos la estructura de la data\n",
    "base.head()\n",
    "base2.head()"
   ]
  },
  {
   "cell_type": "code",
   "execution_count": 78,
   "id": "0a2eb0fb",
   "metadata": {},
   "outputs": [
    {
     "data": {
      "text/plain": [
       "Index(['DP', 'DPNOM', 'COD_MUNICIPIO', 'MPNOM', 'AÑO', 'ÁREA GEOGRÁFICA',\n",
       "       'Total'],\n",
       "      dtype='object')"
      ]
     },
     "execution_count": 78,
     "metadata": {},
     "output_type": "execute_result"
    },
    {
     "data": {
      "text/plain": [
       "Index(['DP', 'DPNOM', 'COD_MUNICIPIO', 'MPNOM', 'AÑO', 'ÁREA GEOGRÁFICA',\n",
       "       'Total'],\n",
       "      dtype='object')"
      ]
     },
     "execution_count": 78,
     "metadata": {},
     "output_type": "execute_result"
    }
   ],
   "source": [
    "#Variables identificadas\n",
    "base.columns\n",
    "base2.columns"
   ]
  },
  {
   "cell_type": "code",
   "execution_count": 79,
   "id": "f33de124",
   "metadata": {},
   "outputs": [
    {
     "data": {
      "text/plain": [
       "DP                 0\n",
       "DPNOM              1\n",
       "COD_MUNICIPIO      1\n",
       "MPNOM              1\n",
       "AÑO                1\n",
       "ÁREA GEOGRÁFICA    1\n",
       "Total              0\n",
       "dtype: int64"
      ]
     },
     "execution_count": 79,
     "metadata": {},
     "output_type": "execute_result"
    },
    {
     "data": {
      "text/plain": [
       "DP                 0\n",
       "DPNOM              0\n",
       "COD_MUNICIPIO      0\n",
       "MPNOM              0\n",
       "AÑO                0\n",
       "ÁREA GEOGRÁFICA    0\n",
       "Total              0\n",
       "dtype: int64"
      ]
     },
     "execution_count": 79,
     "metadata": {},
     "output_type": "execute_result"
    }
   ],
   "source": [
    "#conteo de datos pertidos (nulos)\n",
    "base.isnull().sum()\n",
    "base2.isnull().sum()"
   ]
  },
  {
   "cell_type": "code",
   "execution_count": 80,
   "id": "19588384",
   "metadata": {},
   "outputs": [
    {
     "data": {
      "text/plain": [
       "DP                  object\n",
       "DPNOM               object\n",
       "COD_MUNICIPIO      float64\n",
       "MPNOM               object\n",
       "AÑO                float64\n",
       "ÁREA GEOGRÁFICA     object\n",
       "Total                int64\n",
       "dtype: object"
      ]
     },
     "execution_count": 80,
     "metadata": {},
     "output_type": "execute_result"
    },
    {
     "data": {
      "text/plain": [
       "DP                  int64\n",
       "DPNOM              object\n",
       "COD_MUNICIPIO       int64\n",
       "MPNOM              object\n",
       "AÑO                 int64\n",
       "ÁREA GEOGRÁFICA    object\n",
       "Total               int64\n",
       "dtype: object"
      ]
     },
     "execution_count": 80,
     "metadata": {},
     "output_type": "execute_result"
    }
   ],
   "source": [
    "#tipos de datos recibidos\n",
    "base.dtypes\n",
    "base2.dtypes"
   ]
  },
  {
   "cell_type": "code",
   "execution_count": 81,
   "id": "f4579107",
   "metadata": {},
   "outputs": [
    {
     "data": {
      "text/plain": [
       "(111079, 7)"
      ]
     },
     "execution_count": 81,
     "metadata": {},
     "output_type": "execute_result"
    },
    {
     "data": {
      "text/plain": [
       "(60588, 7)"
      ]
     },
     "execution_count": 81,
     "metadata": {},
     "output_type": "execute_result"
    }
   ],
   "source": [
    "#dimensiones de la base\n",
    "base.shape\n",
    "base2.shape"
   ]
  },
  {
   "cell_type": "markdown",
   "id": "6ef0cccc",
   "metadata": {},
   "source": [
    "### Estandarización de los datos"
   ]
  },
  {
   "cell_type": "code",
   "execution_count": 82,
   "id": "db415eb9",
   "metadata": {},
   "outputs": [],
   "source": [
    "#se renombran las variables\n",
    "base = base.rename(columns={'DP':'COD_DEP', 'DPNOM':'DEPARTAMENTO', 'COD_MUNICIPIO':'COD_MUN', \n",
    "                            'MPNOM':'MUNICIPIO', 'AÑO':'AÑO', 'ÁREA GEOGRÁFICA':'AREA_GEOGRAFICA',\n",
    "       'Total':'TOTAL'})\n",
    "\n",
    "base2 = base2.rename(columns={'DP':'COD_DEP', 'DPNOM':'DEPARTAMENTO', 'COD_MUNICIPIO':'COD_MUN', \n",
    "                            'MPNOM':'MUNICIPIO', 'AÑO':'AÑO', 'ÁREA GEOGRÁFICA':'AREA_GEOGRAFICA',\n",
    "       'Total':'TOTAL'})"
   ]
  },
  {
   "cell_type": "code",
   "execution_count": 83,
   "id": "aa0afa65",
   "metadata": {},
   "outputs": [],
   "source": [
    "#se eliminan las filas con totales\n",
    "base = base[base.COD_DEP != 'Total general']\n",
    "base2 = base2[~base2.AREA_GEOGRAFICA.str.contains('Total')]\n",
    "\n",
    "base = base[base.COD_DEP != 'Total general']\n",
    "base2 = base2[~base2.AREA_GEOGRAFICA.str.contains('Total')]"
   ]
  },
  {
   "cell_type": "code",
   "execution_count": 84,
   "id": "b232d1c3",
   "metadata": {},
   "outputs": [],
   "source": [
    "#se estandariza la variable DEPARTAMENTO\n",
    "base['DEPARTAMENTO'] = [re.sub(\n",
    "                r\"([^n\\u0300-\\u036f]|n(?!\\u0303(?![\\u0300-\\u036f])))[\\u0300-\\u036f]+\", r\"\\1\", \n",
    "                normalize( \"NFD\", x),  0, re.I) for x in base['DEPARTAMENTO']]\n",
    "base['DEPARTAMENTO'] = base['DEPARTAMENTO'].str.upper()\n",
    "\n",
    "base2['DEPARTAMENTO'] = [re.sub(\n",
    "                r\"([^n\\u0300-\\u036f]|n(?!\\u0303(?![\\u0300-\\u036f])))[\\u0300-\\u036f]+\", r\"\\1\", \n",
    "                normalize( \"NFD\", x),  0, re.I) for x in base2['DEPARTAMENTO']]\n",
    "base2['DEPARTAMENTO'] = base2['DEPARTAMENTO'].str.upper()"
   ]
  },
  {
   "cell_type": "code",
   "execution_count": null,
   "id": "4e958788",
   "metadata": {},
   "outputs": [],
   "source": []
  },
  {
   "cell_type": "code",
   "execution_count": 85,
   "id": "9f4b9e0d",
   "metadata": {},
   "outputs": [],
   "source": [
    "#se estandariza la variable COD_MUN\n",
    "base['COD_MUN'] = base.COD_MUN.astype(int)\n",
    "base2['COD_MUN'] = base2.COD_MUN.astype(int)"
   ]
  },
  {
   "cell_type": "code",
   "execution_count": 86,
   "id": "9b5acf60",
   "metadata": {},
   "outputs": [],
   "source": [
    "#se estandariza la variable MUNICIPIO\n",
    "base['MUNICIPIO'] = [re.sub(\n",
    "                r\"([^n\\u0300-\\u036f]|n(?!\\u0303(?![\\u0300-\\u036f])))[\\u0300-\\u036f]+\", r\"\\1\", \n",
    "                normalize( \"NFD\", x),  0, re.I) for x in base['MUNICIPIO']]\n",
    "base['MUNICIPIO'] = base['MUNICIPIO'].str.upper()\n",
    "\n",
    "\n",
    "base2['MUNICIPIO'] = [re.sub(\n",
    "                r\"([^n\\u0300-\\u036f]|n(?!\\u0303(?![\\u0300-\\u036f])))[\\u0300-\\u036f]+\", r\"\\1\", \n",
    "                normalize( \"NFD\", x),  0, re.I) for x in base2['MUNICIPIO']]\n",
    "base2['MUNICIPIO'] = base2['MUNICIPIO'].str.upper()"
   ]
  },
  {
   "cell_type": "code",
   "execution_count": 87,
   "id": "cfc68d14",
   "metadata": {},
   "outputs": [],
   "source": [
    "#se estandariza la variable AÑO\n",
    "base['AÑO'] = base.AÑO.astype(int)\n",
    "\n",
    "base2['AÑO'] = base2.AÑO.astype(int)"
   ]
  },
  {
   "cell_type": "code",
   "execution_count": 88,
   "id": "2439f056",
   "metadata": {},
   "outputs": [],
   "source": [
    "#Se elimina la variable AREA_GEOGRAFICA\n",
    "base = base.drop('AREA_GEOGRAFICA', axis=1)\n",
    "\n",
    "base2 = base2.drop('AREA_GEOGRAFICA', axis=1)"
   ]
  },
  {
   "cell_type": "code",
   "execution_count": 89,
   "id": "1728a597",
   "metadata": {},
   "outputs": [],
   "source": [
    "base = base.groupby(['COD_DEP','DEPARTAMENTO','COD_MUN','MUNICIPIO','AÑO',]).agg(TOTAL = ('TOTAL','sum')).reset_index()\n",
    "\n",
    "base2 = base2.groupby(['COD_DEP','DEPARTAMENTO','COD_MUN','MUNICIPIO','AÑO',]).agg(TOTAL = ('TOTAL','sum')).reset_index()"
   ]
  },
  {
   "cell_type": "code",
   "execution_count": 90,
   "id": "1b0a4456",
   "metadata": {},
   "outputs": [],
   "source": [
    "#se unen las dos bases en una sola\n",
    "base = base.append(base2)"
   ]
  },
  {
   "cell_type": "code",
   "execution_count": 91,
   "id": "f13cc700",
   "metadata": {},
   "outputs": [],
   "source": [
    "#se filtra la base\n",
    "base = base[(base.AÑO >= periodo[0]) & (base.AÑO <= periodo[1]) ]"
   ]
  },
  {
   "cell_type": "code",
   "execution_count": 92,
   "id": "62db39ce",
   "metadata": {},
   "outputs": [
    {
     "data": {
      "text/html": [
       "<div>\n",
       "<style scoped>\n",
       "    .dataframe tbody tr th:only-of-type {\n",
       "        vertical-align: middle;\n",
       "    }\n",
       "\n",
       "    .dataframe tbody tr th {\n",
       "        vertical-align: top;\n",
       "    }\n",
       "\n",
       "    .dataframe thead th {\n",
       "        text-align: right;\n",
       "    }\n",
       "</style>\n",
       "<table border=\"1\" class=\"dataframe\">\n",
       "  <thead>\n",
       "    <tr style=\"text-align: right;\">\n",
       "      <th></th>\n",
       "      <th>COD_DEP</th>\n",
       "      <th>DEPARTAMENTO</th>\n",
       "      <th>COD_MUN</th>\n",
       "      <th>MUNICIPIO</th>\n",
       "      <th>AÑO</th>\n",
       "      <th>TOTAL</th>\n",
       "    </tr>\n",
       "  </thead>\n",
       "  <tbody>\n",
       "    <tr>\n",
       "      <th>25</th>\n",
       "      <td>05</td>\n",
       "      <td>ANTIOQUIA</td>\n",
       "      <td>5001</td>\n",
       "      <td>MEDELLIN</td>\n",
       "      <td>2010</td>\n",
       "      <td>4371078</td>\n",
       "    </tr>\n",
       "    <tr>\n",
       "      <th>26</th>\n",
       "      <td>05</td>\n",
       "      <td>ANTIOQUIA</td>\n",
       "      <td>5001</td>\n",
       "      <td>MEDELLIN</td>\n",
       "      <td>2011</td>\n",
       "      <td>4427098</td>\n",
       "    </tr>\n",
       "    <tr>\n",
       "      <th>27</th>\n",
       "      <td>05</td>\n",
       "      <td>ANTIOQUIA</td>\n",
       "      <td>5001</td>\n",
       "      <td>MEDELLIN</td>\n",
       "      <td>2012</td>\n",
       "      <td>4481380</td>\n",
       "    </tr>\n",
       "    <tr>\n",
       "      <th>28</th>\n",
       "      <td>05</td>\n",
       "      <td>ANTIOQUIA</td>\n",
       "      <td>5001</td>\n",
       "      <td>MEDELLIN</td>\n",
       "      <td>2013</td>\n",
       "      <td>4533938</td>\n",
       "    </tr>\n",
       "    <tr>\n",
       "      <th>29</th>\n",
       "      <td>05</td>\n",
       "      <td>ANTIOQUIA</td>\n",
       "      <td>5001</td>\n",
       "      <td>MEDELLIN</td>\n",
       "      <td>2014</td>\n",
       "      <td>4587202</td>\n",
       "    </tr>\n",
       "  </tbody>\n",
       "</table>\n",
       "</div>"
      ],
      "text/plain": [
       "   COD_DEP DEPARTAMENTO  COD_MUN MUNICIPIO   AÑO    TOTAL\n",
       "25      05    ANTIOQUIA     5001  MEDELLIN  2010  4371078\n",
       "26      05    ANTIOQUIA     5001  MEDELLIN  2011  4427098\n",
       "27      05    ANTIOQUIA     5001  MEDELLIN  2012  4481380\n",
       "28      05    ANTIOQUIA     5001  MEDELLIN  2013  4533938\n",
       "29      05    ANTIOQUIA     5001  MEDELLIN  2014  4587202"
      ]
     },
     "execution_count": 92,
     "metadata": {},
     "output_type": "execute_result"
    }
   ],
   "source": [
    "#previsualización de la base antes de exportar\n",
    "base.head()"
   ]
  },
  {
   "cell_type": "markdown",
   "id": "96237933",
   "metadata": {},
   "source": [
    "# Exportar Datos"
   ]
  },
  {
   "cell_type": "code",
   "execution_count": 93,
   "id": "3baa1a41",
   "metadata": {},
   "outputs": [],
   "source": [
    "base.to_csv('base_dane_visualizacion.csv', sep = ',', index=False)"
   ]
  },
  {
   "cell_type": "code",
   "execution_count": null,
   "id": "dc082a62",
   "metadata": {},
   "outputs": [],
   "source": []
  }
 ],
 "metadata": {
  "kernelspec": {
   "display_name": "Python 3 (ipykernel)",
   "language": "python",
   "name": "python3"
  },
  "language_info": {
   "codemirror_mode": {
    "name": "ipython",
    "version": 3
   },
   "file_extension": ".py",
   "mimetype": "text/x-python",
   "name": "python",
   "nbconvert_exporter": "python",
   "pygments_lexer": "ipython3",
   "version": "3.9.7"
  }
 },
 "nbformat": 4,
 "nbformat_minor": 5
}
