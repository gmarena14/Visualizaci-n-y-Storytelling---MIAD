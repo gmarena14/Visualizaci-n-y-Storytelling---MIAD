{
 "cells": [
  {
   "cell_type": "markdown",
   "id": "76084288",
   "metadata": {},
   "source": [
    "# Cargue de librerias"
   ]
  },
  {
   "cell_type": "code",
   "execution_count": 99,
   "id": "b1938bb7",
   "metadata": {},
   "outputs": [],
   "source": [
    "import pandas as pd\n",
    "import numpy as np\n",
    "import pandas as pd\n",
    "import numpy as np\n",
    "import re\n",
    "from unicodedata import normalize\n",
    "from IPython.core.interactiveshell import InteractiveShell\n",
    "InteractiveShell.ast_node_interactivity = \"all\"\n",
    "pd.options.display.float_format = '{:,.2f}'.format\n",
    "import pyxlsb\n",
    "from pyxlsb import convert_date"
   ]
  },
  {
   "cell_type": "markdown",
   "id": "90675419",
   "metadata": {},
   "source": [
    "# Cargue de Datos"
   ]
  },
  {
   "cell_type": "code",
   "execution_count": 100,
   "id": "337b7459",
   "metadata": {},
   "outputs": [
    {
     "name": "stderr",
     "output_type": "stream",
     "text": [
      "C:\\Users\\enive\\anaconda3\\lib\\site-packages\\IPython\\core\\interactiveshell.py:3444: DtypeWarning: Columns (2) have mixed types.Specify dtype option on import or set low_memory=False.\n",
      "  exec(code_obj, self.user_global_ns, self.user_ns)\n"
     ]
    }
   ],
   "source": [
    "base = pd.read_csv('Reporte_Delito_Violencia_Intrafamiliar_Polic_a_Nacional.csv')"
   ]
  },
  {
   "cell_type": "markdown",
   "id": "b339ce6a",
   "metadata": {},
   "source": [
    "# Parámetros"
   ]
  },
  {
   "cell_type": "code",
   "execution_count": 101,
   "id": "b3946f05",
   "metadata": {},
   "outputs": [],
   "source": [
    "#periodo de tiempo para filtrar la base\n",
    "periodo = [2010,2020]"
   ]
  },
  {
   "cell_type": "markdown",
   "id": "b3586ec0",
   "metadata": {},
   "source": [
    "### Análisis descriptivo de los datos"
   ]
  },
  {
   "cell_type": "code",
   "execution_count": 102,
   "id": "46e75ee6",
   "metadata": {},
   "outputs": [
    {
     "data": {
      "text/html": [
       "<div>\n",
       "<style scoped>\n",
       "    .dataframe tbody tr th:only-of-type {\n",
       "        vertical-align: middle;\n",
       "    }\n",
       "\n",
       "    .dataframe tbody tr th {\n",
       "        vertical-align: top;\n",
       "    }\n",
       "\n",
       "    .dataframe thead th {\n",
       "        text-align: right;\n",
       "    }\n",
       "</style>\n",
       "<table border=\"1\" class=\"dataframe\">\n",
       "  <thead>\n",
       "    <tr style=\"text-align: right;\">\n",
       "      <th></th>\n",
       "      <th>DEPARTAMENTO</th>\n",
       "      <th>MUNICIPIO</th>\n",
       "      <th>CODIGO DANE</th>\n",
       "      <th>ARMAS MEDIOS</th>\n",
       "      <th>FECHA HECHO</th>\n",
       "      <th>GENERO</th>\n",
       "      <th>GRUPO ETARIO</th>\n",
       "      <th>CANTIDAD</th>\n",
       "    </tr>\n",
       "  </thead>\n",
       "  <tbody>\n",
       "    <tr>\n",
       "      <th>0</th>\n",
       "      <td>ATLÁNTICO</td>\n",
       "      <td>BARRANQUILLA (CT)</td>\n",
       "      <td>8001000</td>\n",
       "      <td>ARMA BLANCA / CORTOPUNZANTE</td>\n",
       "      <td>1/01/2010</td>\n",
       "      <td>MASCULINO</td>\n",
       "      <td>ADULTOS</td>\n",
       "      <td>1</td>\n",
       "    </tr>\n",
       "    <tr>\n",
       "      <th>1</th>\n",
       "      <td>BOYACÁ</td>\n",
       "      <td>DUITAMA</td>\n",
       "      <td>15238000</td>\n",
       "      <td>ARMA BLANCA / CORTOPUNZANTE</td>\n",
       "      <td>1/01/2010</td>\n",
       "      <td>FEMENINO</td>\n",
       "      <td>ADULTOS</td>\n",
       "      <td>1</td>\n",
       "    </tr>\n",
       "    <tr>\n",
       "      <th>2</th>\n",
       "      <td>CAQUETÁ</td>\n",
       "      <td>PUERTO RICO</td>\n",
       "      <td>18592000</td>\n",
       "      <td>ARMA BLANCA / CORTOPUNZANTE</td>\n",
       "      <td>1/01/2010</td>\n",
       "      <td>MASCULINO</td>\n",
       "      <td>ADULTOS</td>\n",
       "      <td>1</td>\n",
       "    </tr>\n",
       "    <tr>\n",
       "      <th>3</th>\n",
       "      <td>CASANARE</td>\n",
       "      <td>MANÍ</td>\n",
       "      <td>85139000</td>\n",
       "      <td>ARMA BLANCA / CORTOPUNZANTE</td>\n",
       "      <td>1/01/2010</td>\n",
       "      <td>FEMENINO</td>\n",
       "      <td>ADULTOS</td>\n",
       "      <td>1</td>\n",
       "    </tr>\n",
       "    <tr>\n",
       "      <th>4</th>\n",
       "      <td>CUNDINAMARCA</td>\n",
       "      <td>BOGOTÁ D.C. (CT)</td>\n",
       "      <td>11001000</td>\n",
       "      <td>ARMA BLANCA / CORTOPUNZANTE</td>\n",
       "      <td>1/01/2010</td>\n",
       "      <td>FEMENINO</td>\n",
       "      <td>ADULTOS</td>\n",
       "      <td>1</td>\n",
       "    </tr>\n",
       "  </tbody>\n",
       "</table>\n",
       "</div>"
      ],
      "text/plain": [
       "   DEPARTAMENTO          MUNICIPIO CODIGO DANE                 ARMAS MEDIOS  \\\n",
       "0     ATLÁNTICO  BARRANQUILLA (CT)     8001000  ARMA BLANCA / CORTOPUNZANTE   \n",
       "1        BOYACÁ            DUITAMA    15238000  ARMA BLANCA / CORTOPUNZANTE   \n",
       "2       CAQUETÁ        PUERTO RICO    18592000  ARMA BLANCA / CORTOPUNZANTE   \n",
       "3      CASANARE               MANÍ    85139000  ARMA BLANCA / CORTOPUNZANTE   \n",
       "4  CUNDINAMARCA   BOGOTÁ D.C. (CT)    11001000  ARMA BLANCA / CORTOPUNZANTE   \n",
       "\n",
       "  FECHA HECHO     GENERO GRUPO ETARIO  CANTIDAD  \n",
       "0   1/01/2010  MASCULINO      ADULTOS         1  \n",
       "1   1/01/2010   FEMENINO      ADULTOS         1  \n",
       "2   1/01/2010  MASCULINO      ADULTOS         1  \n",
       "3   1/01/2010   FEMENINO      ADULTOS         1  \n",
       "4   1/01/2010   FEMENINO      ADULTOS         1  "
      ]
     },
     "execution_count": 102,
     "metadata": {},
     "output_type": "execute_result"
    }
   ],
   "source": [
    "#revisamos la estructura de la data\n",
    "base.head()"
   ]
  },
  {
   "cell_type": "code",
   "execution_count": 103,
   "id": "0a2eb0fb",
   "metadata": {},
   "outputs": [
    {
     "data": {
      "text/plain": [
       "Index(['DEPARTAMENTO', 'MUNICIPIO', 'CODIGO DANE', 'ARMAS MEDIOS',\n",
       "       'FECHA HECHO', 'GENERO', 'GRUPO ETARIO', 'CANTIDAD'],\n",
       "      dtype='object')"
      ]
     },
     "execution_count": 103,
     "metadata": {},
     "output_type": "execute_result"
    }
   ],
   "source": [
    "#Variables identificadas\n",
    "base.columns"
   ]
  },
  {
   "cell_type": "code",
   "execution_count": 104,
   "id": "f33de124",
   "metadata": {},
   "outputs": [
    {
     "data": {
      "text/plain": [
       "DEPARTAMENTO       0\n",
       "MUNICIPIO          0\n",
       "CODIGO DANE        0\n",
       "ARMAS MEDIOS       2\n",
       "FECHA HECHO        0\n",
       "GENERO             3\n",
       "GRUPO ETARIO    1615\n",
       "CANTIDAD           0\n",
       "dtype: int64"
      ]
     },
     "execution_count": 104,
     "metadata": {},
     "output_type": "execute_result"
    }
   ],
   "source": [
    "#conteo de datos pertidos (nulos)\n",
    "base.isnull().sum()"
   ]
  },
  {
   "cell_type": "code",
   "execution_count": 105,
   "id": "e0df83ca",
   "metadata": {},
   "outputs": [
    {
     "data": {
      "text/plain": [
       "DEPARTAMENTO    object\n",
       "MUNICIPIO       object\n",
       "CODIGO DANE     object\n",
       "ARMAS MEDIOS    object\n",
       "FECHA HECHO     object\n",
       "GENERO          object\n",
       "GRUPO ETARIO    object\n",
       "CANTIDAD         int64\n",
       "dtype: object"
      ]
     },
     "execution_count": 105,
     "metadata": {},
     "output_type": "execute_result"
    }
   ],
   "source": [
    "#tipos de datos recibidos\n",
    "base.dtypes"
   ]
  },
  {
   "cell_type": "code",
   "execution_count": 106,
   "id": "f4579107",
   "metadata": {},
   "outputs": [
    {
     "data": {
      "text/plain": [
       "(476970, 8)"
      ]
     },
     "execution_count": 106,
     "metadata": {},
     "output_type": "execute_result"
    }
   ],
   "source": [
    "#dimensiones de la base\n",
    "base.shape"
   ]
  },
  {
   "cell_type": "markdown",
   "id": "ab3c21ce",
   "metadata": {},
   "source": [
    "### Estandarización de los datos"
   ]
  },
  {
   "cell_type": "code",
   "execution_count": 107,
   "id": "b233e6a0",
   "metadata": {},
   "outputs": [
    {
     "data": {
      "text/plain": [
       "array(['ARMA BLANCA / CORTOPUNZANTE', 'ARMA DE FUEGO', 'CONTUNDENTES',\n",
       "       'CORTANTES', 'CORTOPUNZANTES', 'NO REPORTADO', 'PUNZANTES',\n",
       "       'SIN EMPLEO DE ARMAS', 'NO REPORTA', 'ESCOPOLAMINA', '-', nan],\n",
       "      dtype=object)"
      ]
     },
     "execution_count": 107,
     "metadata": {},
     "output_type": "execute_result"
    }
   ],
   "source": [
    "#estandarización de la varible ARMAS MEDIOS\n",
    "base['ARMAS MEDIOS'].unique()\n",
    "base['ARMAS MEDIOS'] = np.where(base['ARMAS MEDIOS'] == 'CORTANTES', 'ARMA BLANCA / CORTOPUNZANTE',\n",
    "                               np.where(base['ARMAS MEDIOS'] == 'CORTOPUNZANTES', 'ARMA BLANCA / CORTOPUNZANTE',\n",
    "                               np.where(base['ARMAS MEDIOS'] == 'NO REPORTADO', 'NO REPORTA',\n",
    "                               np.where(base['ARMAS MEDIOS'] == '-', 'NO REPORTA', base['ARMAS MEDIOS']))))\n",
    "base['ARMAS MEDIOS'] = base['ARMAS MEDIOS'].fillna('NO REPORTA')\n",
    "\n",
    "base['ARMAS MEDIOS'] = [re.sub(\n",
    "                r\"([^n\\u0300-\\u036f]|n(?!\\u0303(?![\\u0300-\\u036f])))[\\u0300-\\u036f]+\", r\"\\1\", \n",
    "                normalize( \"NFD\", x),  0, re.I) for x in base['ARMAS MEDIOS'] ]"
   ]
  },
  {
   "cell_type": "code",
   "execution_count": 108,
   "id": "03ecca2d",
   "metadata": {},
   "outputs": [
    {
     "data": {
      "text/plain": [
       "array(['MASCULINO', 'FEMENINO', 'NO REPORTA', '-', nan], dtype=object)"
      ]
     },
     "execution_count": 108,
     "metadata": {},
     "output_type": "execute_result"
    },
    {
     "data": {
      "text/plain": [
       "array(['MASCULINO', 'FEMENINO', 'NO REPORTA'], dtype=object)"
      ]
     },
     "execution_count": 108,
     "metadata": {},
     "output_type": "execute_result"
    }
   ],
   "source": [
    "#estandarización de la variable GENERO\n",
    "base['GENERO'].unique()\n",
    "base['GENERO'] = np.where(base['GENERO'] == '-', 'NO REPORTA', base['GENERO'])\n",
    "base['GENERO'] = base['GENERO'].fillna('NO REPORTA')\n",
    "base['GENERO'] = [re.sub(\n",
    "                r\"([^n\\u0300-\\u036f]|n(?!\\u0303(?![\\u0300-\\u036f])))[\\u0300-\\u036f]+\", r\"\\1\", \n",
    "                normalize( \"NFD\", x),  0, re.I) for x in base['GENERO'] ]\n",
    "base['GENERO'].unique()"
   ]
  },
  {
   "cell_type": "code",
   "execution_count": 109,
   "id": "a08454e1",
   "metadata": {},
   "outputs": [
    {
     "data": {
      "text/plain": [
       "array(['ADULTOS', 'ADOLESCENTES', 'MENORES', 'NO REPORTA', nan],\n",
       "      dtype=object)"
      ]
     },
     "execution_count": 109,
     "metadata": {},
     "output_type": "execute_result"
    }
   ],
   "source": [
    "#estandarización de la variable GRUPO ETARIO\n",
    "base['GRUPO ETARIO'].unique()\n",
    "base['GRUPO ETARIO'] = base['GRUPO ETARIO'].fillna('NO REPORTA')"
   ]
  },
  {
   "cell_type": "code",
   "execution_count": 110,
   "id": "ddd3ac1f",
   "metadata": {},
   "outputs": [],
   "source": [
    "#estandarización de la variable DEPARTAMENTO\n",
    "base['DEPARTAMENTO'] = [re.sub(\n",
    "                r\"([^n\\u0300-\\u036f]|n(?!\\u0303(?![\\u0300-\\u036f])))[\\u0300-\\u036f]+\", r\"\\1\", \n",
    "                normalize( \"NFD\", x),  0, re.I) for x in base['DEPARTAMENTO'] ]"
   ]
  },
  {
   "cell_type": "code",
   "execution_count": 111,
   "id": "c48911c8",
   "metadata": {},
   "outputs": [],
   "source": [
    "#estandarización de la variable CODIGO DANE\n",
    "base['CODIGO DANE'] = [str(x)[:-3] for x in base['CODIGO DANE']]"
   ]
  },
  {
   "cell_type": "code",
   "execution_count": 112,
   "id": "561ef535",
   "metadata": {},
   "outputs": [],
   "source": [
    "#creación de la variable CAPITAL_TURISTICA\n",
    "base['CAPITAL_TURISTICA'] = 0\n",
    "base.loc[base.MUNICIPIO.str.contains('CT'), 'CAPITAL_TURISTICA']=1"
   ]
  },
  {
   "cell_type": "code",
   "execution_count": 113,
   "id": "e5b0f1f3",
   "metadata": {
    "scrolled": true
   },
   "outputs": [
    {
     "name": "stderr",
     "output_type": "stream",
     "text": [
      "C:\\Users\\enive\\AppData\\Local\\Temp/ipykernel_25096/1665858235.py:6: FutureWarning: The default value of regex will change from True to False in a future version. In addition, single character regular expressions will *not* be treated as literal strings when regex=True.\n",
      "  base['MUNICIPIO'] = base.MUNICIPIO.str.replace(')', '')\n",
      "C:\\Users\\enive\\AppData\\Local\\Temp/ipykernel_25096/1665858235.py:7: FutureWarning: The default value of regex will change from True to False in a future version. In addition, single character regular expressions will *not* be treated as literal strings when regex=True.\n",
      "  base['MUNICIPIO'] = base.MUNICIPIO.str.replace('(', '')\n"
     ]
    }
   ],
   "source": [
    "#estandarización de la variable MUNICIPIO\n",
    "base['MUNICIPIO'] = [re.sub(\n",
    "                r\"([^n\\u0300-\\u036f]|n(?!\\u0303(?![\\u0300-\\u036f])))[\\u0300-\\u036f]+\", r\"\\1\", \n",
    "                normalize( \"NFD\", x),  0, re.I) for x in base['MUNICIPIO']]\n",
    "base['MUNICIPIO'] = base.MUNICIPIO.str.replace('CT', '') \n",
    "base['MUNICIPIO'] = base.MUNICIPIO.str.replace(')', '') \n",
    "base['MUNICIPIO'] = base.MUNICIPIO.str.replace('(', '') "
   ]
  },
  {
   "cell_type": "code",
   "execution_count": 114,
   "id": "fd5ab4e4",
   "metadata": {},
   "outputs": [],
   "source": [
    "#estandarización de la variable FECHA HECHO\n",
    "lista = []\n",
    "for i in base['FECHA HECHO']:\n",
    "    try:\n",
    "        \n",
    "        lista.append(convert_date(int(i)).strftime('%d/%m/%Y'))\n",
    "    except:\n",
    "        lista.append(i)\n",
    "        \n",
    "base['FECHA HECHO'] = lista"
   ]
  },
  {
   "cell_type": "code",
   "execution_count": 115,
   "id": "2c9be135",
   "metadata": {},
   "outputs": [],
   "source": [
    "#creación de las variables año mes día\n",
    "Fecha = base['FECHA HECHO'].str.split('/',expand = True)\n",
    "Fecha.columns = ['DIA', 'MES', 'AÑO']\n",
    "Fecha['DIA'] = Fecha['DIA'].astype(int)\n",
    "Fecha['MES'] = Fecha['AÑO'].astype(int)\n",
    "Fecha['AÑO'] = Fecha['AÑO'].astype(int)\n",
    "base = pd.concat([base, Fecha], axis = 1)"
   ]
  },
  {
   "cell_type": "code",
   "execution_count": 116,
   "id": "43929397",
   "metadata": {},
   "outputs": [],
   "source": [
    "#se filtra la base\n",
    "base = base[(base.AÑO >= periodo[0]) & (base.AÑO <= periodo[1]) ]"
   ]
  },
  {
   "cell_type": "code",
   "execution_count": 119,
   "id": "17740b37",
   "metadata": {},
   "outputs": [
    {
     "data": {
      "text/html": [
       "<div>\n",
       "<style scoped>\n",
       "    .dataframe tbody tr th:only-of-type {\n",
       "        vertical-align: middle;\n",
       "    }\n",
       "\n",
       "    .dataframe tbody tr th {\n",
       "        vertical-align: top;\n",
       "    }\n",
       "\n",
       "    .dataframe thead th {\n",
       "        text-align: right;\n",
       "    }\n",
       "</style>\n",
       "<table border=\"1\" class=\"dataframe\">\n",
       "  <thead>\n",
       "    <tr style=\"text-align: right;\">\n",
       "      <th></th>\n",
       "      <th>DEPARTAMENTO</th>\n",
       "      <th>MUNICIPIO</th>\n",
       "      <th>CODIGO DANE</th>\n",
       "      <th>ARMAS MEDIOS</th>\n",
       "      <th>FECHA HECHO</th>\n",
       "      <th>GENERO</th>\n",
       "      <th>GRUPO ETARIO</th>\n",
       "      <th>CANTIDAD</th>\n",
       "      <th>CAPITAL_TURISTICA</th>\n",
       "      <th>DIA</th>\n",
       "      <th>MES</th>\n",
       "      <th>AÑO</th>\n",
       "    </tr>\n",
       "  </thead>\n",
       "  <tbody>\n",
       "    <tr>\n",
       "      <th>0</th>\n",
       "      <td>ATLANTICO</td>\n",
       "      <td>BARRANQUILLA</td>\n",
       "      <td>8001</td>\n",
       "      <td>ARMA BLANCA / CORTOPUNZANTE</td>\n",
       "      <td>1/01/2010</td>\n",
       "      <td>MASCULINO</td>\n",
       "      <td>ADULTOS</td>\n",
       "      <td>1</td>\n",
       "      <td>1</td>\n",
       "      <td>1</td>\n",
       "      <td>2010</td>\n",
       "      <td>2010</td>\n",
       "    </tr>\n",
       "    <tr>\n",
       "      <th>1</th>\n",
       "      <td>BOYACA</td>\n",
       "      <td>DUITAMA</td>\n",
       "      <td>15238</td>\n",
       "      <td>ARMA BLANCA / CORTOPUNZANTE</td>\n",
       "      <td>1/01/2010</td>\n",
       "      <td>FEMENINO</td>\n",
       "      <td>ADULTOS</td>\n",
       "      <td>1</td>\n",
       "      <td>0</td>\n",
       "      <td>1</td>\n",
       "      <td>2010</td>\n",
       "      <td>2010</td>\n",
       "    </tr>\n",
       "    <tr>\n",
       "      <th>2</th>\n",
       "      <td>CAQUETA</td>\n",
       "      <td>PUERTO RICO</td>\n",
       "      <td>18592</td>\n",
       "      <td>ARMA BLANCA / CORTOPUNZANTE</td>\n",
       "      <td>1/01/2010</td>\n",
       "      <td>MASCULINO</td>\n",
       "      <td>ADULTOS</td>\n",
       "      <td>1</td>\n",
       "      <td>0</td>\n",
       "      <td>1</td>\n",
       "      <td>2010</td>\n",
       "      <td>2010</td>\n",
       "    </tr>\n",
       "    <tr>\n",
       "      <th>3</th>\n",
       "      <td>CASANARE</td>\n",
       "      <td>MANI</td>\n",
       "      <td>85139</td>\n",
       "      <td>ARMA BLANCA / CORTOPUNZANTE</td>\n",
       "      <td>1/01/2010</td>\n",
       "      <td>FEMENINO</td>\n",
       "      <td>ADULTOS</td>\n",
       "      <td>1</td>\n",
       "      <td>0</td>\n",
       "      <td>1</td>\n",
       "      <td>2010</td>\n",
       "      <td>2010</td>\n",
       "    </tr>\n",
       "    <tr>\n",
       "      <th>4</th>\n",
       "      <td>CUNDINAMARCA</td>\n",
       "      <td>BOGOTA D.C.</td>\n",
       "      <td>11001</td>\n",
       "      <td>ARMA BLANCA / CORTOPUNZANTE</td>\n",
       "      <td>1/01/2010</td>\n",
       "      <td>FEMENINO</td>\n",
       "      <td>ADULTOS</td>\n",
       "      <td>1</td>\n",
       "      <td>1</td>\n",
       "      <td>1</td>\n",
       "      <td>2010</td>\n",
       "      <td>2010</td>\n",
       "    </tr>\n",
       "  </tbody>\n",
       "</table>\n",
       "</div>"
      ],
      "text/plain": [
       "   DEPARTAMENTO      MUNICIPIO CODIGO DANE                 ARMAS MEDIOS  \\\n",
       "0     ATLANTICO  BARRANQUILLA         8001  ARMA BLANCA / CORTOPUNZANTE   \n",
       "1        BOYACA        DUITAMA       15238  ARMA BLANCA / CORTOPUNZANTE   \n",
       "2       CAQUETA    PUERTO RICO       18592  ARMA BLANCA / CORTOPUNZANTE   \n",
       "3      CASANARE           MANI       85139  ARMA BLANCA / CORTOPUNZANTE   \n",
       "4  CUNDINAMARCA   BOGOTA D.C.        11001  ARMA BLANCA / CORTOPUNZANTE   \n",
       "\n",
       "  FECHA HECHO     GENERO GRUPO ETARIO  CANTIDAD  CAPITAL_TURISTICA  DIA   MES  \\\n",
       "0   1/01/2010  MASCULINO      ADULTOS         1                  1    1  2010   \n",
       "1   1/01/2010   FEMENINO      ADULTOS         1                  0    1  2010   \n",
       "2   1/01/2010  MASCULINO      ADULTOS         1                  0    1  2010   \n",
       "3   1/01/2010   FEMENINO      ADULTOS         1                  0    1  2010   \n",
       "4   1/01/2010   FEMENINO      ADULTOS         1                  1    1  2010   \n",
       "\n",
       "    AÑO  \n",
       "0  2010  \n",
       "1  2010  \n",
       "2  2010  \n",
       "3  2010  \n",
       "4  2010  "
      ]
     },
     "execution_count": 119,
     "metadata": {},
     "output_type": "execute_result"
    }
   ],
   "source": [
    "#previsualización de la base antes de exportar\n",
    "base.head()"
   ]
  },
  {
   "cell_type": "markdown",
   "id": "724c27b7",
   "metadata": {},
   "source": [
    "# Exportar Datos"
   ]
  },
  {
   "cell_type": "code",
   "execution_count": 120,
   "id": "3baa1a41",
   "metadata": {},
   "outputs": [],
   "source": [
    "base.to_csv('base_estandarizada_visualizacion.csv', sep = ',', index=False)"
   ]
  },
  {
   "cell_type": "code",
   "execution_count": null,
   "id": "ddc059a7",
   "metadata": {},
   "outputs": [],
   "source": []
  }
 ],
 "metadata": {
  "kernelspec": {
   "display_name": "Python 3 (ipykernel)",
   "language": "python",
   "name": "python3"
  },
  "language_info": {
   "codemirror_mode": {
    "name": "ipython",
    "version": 3
   },
   "file_extension": ".py",
   "mimetype": "text/x-python",
   "name": "python",
   "nbconvert_exporter": "python",
   "pygments_lexer": "ipython3",
   "version": "3.9.7"
  }
 },
 "nbformat": 4,
 "nbformat_minor": 5
}
